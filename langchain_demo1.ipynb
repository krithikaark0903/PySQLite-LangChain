{
  "nbformat": 4,
  "nbformat_minor": 0,
  "metadata": {
    "colab": {
      "provenance": [],
      "authorship_tag": "ABX9TyPRinuUrQO2BFcbY27eijnc",
      "include_colab_link": true
    },
    "kernelspec": {
      "name": "python3",
      "display_name": "Python 3"
    },
    "language_info": {
      "name": "python"
    }
  },
  "cells": [
    {
      "cell_type": "markdown",
      "metadata": {
        "id": "view-in-github",
        "colab_type": "text"
      },
      "source": [
        "<a href=\"https://colab.research.google.com/github/krithikaark0903/PySQLite-LangChain/blob/main/langchain_demo1.ipynb\" target=\"_parent\"><img src=\"https://colab.research.google.com/assets/colab-badge.svg\" alt=\"Open In Colab\"/></a>"
      ]
    },
    {
      "cell_type": "code",
      "execution_count": 1,
      "metadata": {
        "colab": {
          "base_uri": "https://localhost:8080/"
        },
        "id": "Yhj1i9hwANIY",
        "outputId": "54847895-c181-4426-c8c5-c4e28e3fbebc"
      },
      "outputs": [
        {
          "output_type": "stream",
          "name": "stdout",
          "text": [
            "Collecting langchain\n",
            "  Downloading langchain-0.0.342-py3-none-any.whl (1.9 MB)\n",
            "\u001b[2K     \u001b[90m━━━━━━━━━━━━━━━━━━━━━━━━━━━━━━━━━━━━━━━━\u001b[0m \u001b[32m1.9/1.9 MB\u001b[0m \u001b[31m6.9 MB/s\u001b[0m eta \u001b[36m0:00:00\u001b[0m\n",
            "\u001b[?25hRequirement already satisfied: PyYAML>=5.3 in /usr/local/lib/python3.10/dist-packages (from langchain) (6.0.1)\n",
            "Requirement already satisfied: SQLAlchemy<3,>=1.4 in /usr/local/lib/python3.10/dist-packages (from langchain) (2.0.23)\n",
            "Requirement already satisfied: aiohttp<4.0.0,>=3.8.3 in /usr/local/lib/python3.10/dist-packages (from langchain) (3.8.6)\n",
            "Requirement already satisfied: anyio<4.0 in /usr/local/lib/python3.10/dist-packages (from langchain) (3.7.1)\n",
            "Requirement already satisfied: async-timeout<5.0.0,>=4.0.0 in /usr/local/lib/python3.10/dist-packages (from langchain) (4.0.3)\n",
            "Collecting dataclasses-json<0.7,>=0.5.7 (from langchain)\n",
            "  Downloading dataclasses_json-0.6.3-py3-none-any.whl (28 kB)\n",
            "Collecting jsonpatch<2.0,>=1.33 (from langchain)\n",
            "  Downloading jsonpatch-1.33-py2.py3-none-any.whl (12 kB)\n",
            "Collecting langchain-core<0.1,>=0.0.7 (from langchain)\n",
            "  Downloading langchain_core-0.0.7-py3-none-any.whl (177 kB)\n",
            "\u001b[2K     \u001b[90m━━━━━━━━━━━━━━━━━━━━━━━━━━━━━━━━━━━━━━━━\u001b[0m \u001b[32m177.5/177.5 kB\u001b[0m \u001b[31m11.2 MB/s\u001b[0m eta \u001b[36m0:00:00\u001b[0m\n",
            "\u001b[?25hCollecting langsmith<0.1.0,>=0.0.63 (from langchain)\n",
            "  Downloading langsmith-0.0.67-py3-none-any.whl (47 kB)\n",
            "\u001b[2K     \u001b[90m━━━━━━━━━━━━━━━━━━━━━━━━━━━━━━━━━━━━━━━━\u001b[0m \u001b[32m47.0/47.0 kB\u001b[0m \u001b[31m7.7 MB/s\u001b[0m eta \u001b[36m0:00:00\u001b[0m\n",
            "\u001b[?25hRequirement already satisfied: numpy<2,>=1 in /usr/local/lib/python3.10/dist-packages (from langchain) (1.23.5)\n",
            "Requirement already satisfied: pydantic<3,>=1 in /usr/local/lib/python3.10/dist-packages (from langchain) (1.10.13)\n",
            "Requirement already satisfied: requests<3,>=2 in /usr/local/lib/python3.10/dist-packages (from langchain) (2.31.0)\n",
            "Requirement already satisfied: tenacity<9.0.0,>=8.1.0 in /usr/local/lib/python3.10/dist-packages (from langchain) (8.2.3)\n",
            "Requirement already satisfied: attrs>=17.3.0 in /usr/local/lib/python3.10/dist-packages (from aiohttp<4.0.0,>=3.8.3->langchain) (23.1.0)\n",
            "Requirement already satisfied: charset-normalizer<4.0,>=2.0 in /usr/local/lib/python3.10/dist-packages (from aiohttp<4.0.0,>=3.8.3->langchain) (3.3.2)\n",
            "Requirement already satisfied: multidict<7.0,>=4.5 in /usr/local/lib/python3.10/dist-packages (from aiohttp<4.0.0,>=3.8.3->langchain) (6.0.4)\n",
            "Requirement already satisfied: yarl<2.0,>=1.0 in /usr/local/lib/python3.10/dist-packages (from aiohttp<4.0.0,>=3.8.3->langchain) (1.9.2)\n",
            "Requirement already satisfied: frozenlist>=1.1.1 in /usr/local/lib/python3.10/dist-packages (from aiohttp<4.0.0,>=3.8.3->langchain) (1.4.0)\n",
            "Requirement already satisfied: aiosignal>=1.1.2 in /usr/local/lib/python3.10/dist-packages (from aiohttp<4.0.0,>=3.8.3->langchain) (1.3.1)\n",
            "Requirement already satisfied: idna>=2.8 in /usr/local/lib/python3.10/dist-packages (from anyio<4.0->langchain) (3.4)\n",
            "Requirement already satisfied: sniffio>=1.1 in /usr/local/lib/python3.10/dist-packages (from anyio<4.0->langchain) (1.3.0)\n",
            "Requirement already satisfied: exceptiongroup in /usr/local/lib/python3.10/dist-packages (from anyio<4.0->langchain) (1.1.3)\n",
            "Collecting marshmallow<4.0.0,>=3.18.0 (from dataclasses-json<0.7,>=0.5.7->langchain)\n",
            "  Downloading marshmallow-3.20.1-py3-none-any.whl (49 kB)\n",
            "\u001b[2K     \u001b[90m━━━━━━━━━━━━━━━━━━━━━━━━━━━━━━━━━━━━━━━━\u001b[0m \u001b[32m49.4/49.4 kB\u001b[0m \u001b[31m7.8 MB/s\u001b[0m eta \u001b[36m0:00:00\u001b[0m\n",
            "\u001b[?25hCollecting typing-inspect<1,>=0.4.0 (from dataclasses-json<0.7,>=0.5.7->langchain)\n",
            "  Downloading typing_inspect-0.9.0-py3-none-any.whl (8.8 kB)\n",
            "Collecting jsonpointer>=1.9 (from jsonpatch<2.0,>=1.33->langchain)\n",
            "  Downloading jsonpointer-2.4-py2.py3-none-any.whl (7.8 kB)\n",
            "Requirement already satisfied: typing-extensions>=4.2.0 in /usr/local/lib/python3.10/dist-packages (from pydantic<3,>=1->langchain) (4.5.0)\n",
            "Requirement already satisfied: urllib3<3,>=1.21.1 in /usr/local/lib/python3.10/dist-packages (from requests<3,>=2->langchain) (2.0.7)\n",
            "Requirement already satisfied: certifi>=2017.4.17 in /usr/local/lib/python3.10/dist-packages (from requests<3,>=2->langchain) (2023.7.22)\n",
            "Requirement already satisfied: greenlet!=0.4.17 in /usr/local/lib/python3.10/dist-packages (from SQLAlchemy<3,>=1.4->langchain) (3.0.1)\n",
            "Requirement already satisfied: packaging>=17.0 in /usr/local/lib/python3.10/dist-packages (from marshmallow<4.0.0,>=3.18.0->dataclasses-json<0.7,>=0.5.7->langchain) (23.2)\n",
            "Collecting mypy-extensions>=0.3.0 (from typing-inspect<1,>=0.4.0->dataclasses-json<0.7,>=0.5.7->langchain)\n",
            "  Downloading mypy_extensions-1.0.0-py3-none-any.whl (4.7 kB)\n",
            "Installing collected packages: mypy-extensions, marshmallow, jsonpointer, typing-inspect, langsmith, jsonpatch, langchain-core, dataclasses-json, langchain\n",
            "Successfully installed dataclasses-json-0.6.3 jsonpatch-1.33 jsonpointer-2.4 langchain-0.0.342 langchain-core-0.0.7 langsmith-0.0.67 marshmallow-3.20.1 mypy-extensions-1.0.0 typing-inspect-0.9.0\n",
            "\u001b[2K     \u001b[90m━━━━━━━━━━━━━━━━━━━━━━━━━━━━━━━━━━━━━━━━\u001b[0m \u001b[32m220.9/220.9 kB\u001b[0m \u001b[31m4.1 MB/s\u001b[0m eta \u001b[36m0:00:00\u001b[0m\n",
            "\u001b[2K     \u001b[90m━━━━━━━━━━━━━━━━━━━━━━━━━━━━━━━━━━━━━━━━\u001b[0m \u001b[32m75.0/75.0 kB\u001b[0m \u001b[31m11.8 MB/s\u001b[0m eta \u001b[36m0:00:00\u001b[0m\n",
            "\u001b[2K     \u001b[90m━━━━━━━━━━━━━━━━━━━━━━━━━━━━━━━━━━━━━━━━\u001b[0m \u001b[32m76.9/76.9 kB\u001b[0m \u001b[31m10.3 MB/s\u001b[0m eta \u001b[36m0:00:00\u001b[0m\n",
            "\u001b[2K     \u001b[90m━━━━━━━━━━━━━━━━━━━━━━━━━━━━━━━━━━━━━━━━\u001b[0m \u001b[32m58.3/58.3 kB\u001b[0m \u001b[31m8.7 MB/s\u001b[0m eta \u001b[36m0:00:00\u001b[0m\n",
            "\u001b[?25h\u001b[31mERROR: pip's dependency resolver does not currently take into account all the packages that are installed. This behaviour is the source of the following dependency conflicts.\n",
            "llmx 0.0.15a0 requires cohere, which is not installed.\n",
            "llmx 0.0.15a0 requires tiktoken, which is not installed.\u001b[0m\u001b[31m\n",
            "\u001b[0m"
          ]
        }
      ],
      "source": [
        "#install necessary requirements\n",
        "!pip install --upgrade langchain\n",
        "!pip install -q openai"
      ]
    },
    {
      "cell_type": "code",
      "source": [
        "#CSV to SQL conversion\n",
        "import pandas as pd\n",
        "import sqlite3\n",
        "\n",
        "# Read the CSV file containing employee data\n",
        "df = pd.read_csv(\"employees.csv\")\n",
        "\n",
        "# Rename columns to match the database schema\n",
        "df.rename(columns={\n",
        "    'EMPLOYEE_ID': 'employee_id',\n",
        "    'FIRST_NAME': 'first_name',\n",
        "    'LAST_NAME': 'last_name',\n",
        "    'EMAIL': 'email',\n",
        "    'PHONE_NUMBER': 'phone_number',\n",
        "    'HIRE_DATE': 'hire_date',\n",
        "    'JOB_ID': 'job_id',\n",
        "    'SALARY': 'salary',\n",
        "    'COMMISSION_PCT': 'commission_pct',\n",
        "    'MANAGER_ID': 'manager_id',\n",
        "    'DEPARTMENT_ID': 'department_id'\n",
        "}, inplace=True)\n",
        "\n",
        "# Create a connection to the SQLite database file\n",
        "conn = sqlite3.connect('employee_db.sqlite')\n",
        "c = conn.cursor()\n",
        "\n",
        "# Convert the DataFrame to a SQLite table\n",
        "df.to_sql('employees', conn, if_exists='replace', index=False)\n",
        "\n",
        "# Save (commit) the changes and close the connection\n",
        "conn.commit()\n",
        "conn.close()\n",
        "\n",
        "\n",
        "# Create a connection to the SQLite database file\n",
        "conn = sqlite3.connect('employee_db.sqlite')\n",
        "c = conn.cursor()\n",
        "\n",
        "# SQL statement to create a table for employees\n",
        "create_table_query = '''\n",
        "    CREATE TABLE IF NOT EXISTS employees (\n",
        "        employee_id INTEGER PRIMARY KEY,\n",
        "        first_name TEXT,\n",
        "        last_name TEXT,\n",
        "        email TEXT,\n",
        "        phone_number TEXT,\n",
        "        hire_date TEXT,\n",
        "        job_id TEXT,\n",
        "        salary REAL,\n",
        "        commission_pct REAL,\n",
        "        manager_id INTEGER,\n",
        "        department_id INTEGER\n",
        "    )\n",
        "'''\n",
        "\n",
        "# Execute the SQL statement to create the employees table\n",
        "c.execute(create_table_query)\n",
        "\n",
        "# Save (commit) the changes and close the connection\n",
        "conn.commit()\n",
        "conn.close()\n"
      ],
      "metadata": {
        "id": "ZeMo5craAku8"
      },
      "execution_count": null,
      "outputs": []
    },
    {
      "cell_type": "code",
      "source": [
        "#checking if db is correctly loaded\n",
        "import sqlite3\n",
        "\n",
        "def read_sql_query(sql, db):\n",
        "    conn = sqlite3.connect(db)\n",
        "    cur = conn.cursor()\n",
        "    cur.execute(sql)\n",
        "    rows = cur.fetchall()\n",
        "    for row in rows:\n",
        "        print(row)\n",
        "    conn.close()\n",
        "\n",
        "\n"
      ],
      "metadata": {
        "id": "TBkAre7kJh2z"
      },
      "execution_count": null,
      "outputs": []
    },
    {
      "cell_type": "code",
      "source": [
        "# Example usage for employees table\n",
        "read_sql_query('SELECT * FROM employees LIMIT 10;', \"employee_db.sqlite\")"
      ],
      "metadata": {
        "colab": {
          "base_uri": "https://localhost:8080/"
        },
        "id": "KcZov-rIK3MF",
        "outputId": "f7969fda-fcbf-4c45-bc5d-0572775a96ef"
      },
      "execution_count": null,
      "outputs": [
        {
          "output_type": "stream",
          "name": "stdout",
          "text": [
            "(198, 'Donald', 'OConnell', 'DOCONNEL', '650.507.9833', '21-JUN-07', 'SH_CLERK', 2600, ' - ', '124', 50)\n",
            "(199, 'Douglas', 'Grant', 'DGRANT', '650.507.9844', '13-JAN-08', 'SH_CLERK', 2600, ' - ', '124', 50)\n",
            "(200, 'Jennifer', 'Whalen', 'JWHALEN', '515.123.4444', '17-SEP-03', 'AD_ASST', 4400, ' - ', '101', 10)\n",
            "(201, 'Michael', 'Hartstein', 'MHARTSTE', '515.123.5555', '17-FEB-04', 'MK_MAN', 13000, ' - ', '100', 20)\n",
            "(202, 'Pat', 'Fay', 'PFAY', '603.123.6666', '17-AUG-05', 'MK_REP', 6000, ' - ', '201', 20)\n",
            "(203, 'Susan', 'Mavris', 'SMAVRIS', '515.123.7777', '07-JUN-02', 'HR_REP', 6500, ' - ', '101', 40)\n",
            "(204, 'Hermann', 'Baer', 'HBAER', '515.123.8888', '07-JUN-02', 'PR_REP', 10000, ' - ', '101', 70)\n",
            "(205, 'Shelley', 'Higgins', 'SHIGGINS', '515.123.8080', '07-JUN-02', 'AC_MGR', 12008, ' - ', '101', 110)\n",
            "(206, 'William', 'Gietz', 'WGIETZ', '515.123.8181', '07-JUN-02', 'AC_ACCOUNT', 8300, ' - ', '205', 110)\n",
            "(100, 'Steven', 'King', 'SKING', '515.123.4567', '17-JUN-03', 'AD_PRES', 24000, ' - ', ' - ', 90)\n"
          ]
        }
      ]
    },
    {
      "cell_type": "code",
      "source": [
        "from langchain.agents import create_sql_agent\n",
        "from langchain.agents.agent_toolkits import SQLDatabaseToolkit\n",
        "from langchain.agents.agent_types import AgentType\n",
        "from langchain.llms.openai import OpenAI\n",
        "from langchain import SQLDatabase\n",
        "\n",
        "# Set your OpenAI GPT API key here\n",
        "OPENAI_API_KEY = \"your_api_key\"\n",
        "\n",
        "db = SQLDatabase.from_uri(\"sqlite:///employee_db.sqlite\")\n",
        "\n",
        "agent_executor = create_sql_agent(\n",
        "    llm=OpenAI(api_key=OPENAI_API_KEY, temperature=0),\n",
        "    toolkit=SQLDatabaseToolkit(db=db, llm=OpenAI(api_key=OPENAI_API_KEY, temperature=0)),\n",
        "    verbose=True,\n",
        "    agent_type=AgentType.ZERO_SHOT_REACT_DESCRIPTION,\n",
        ")\n",
        "\n",
        "\n"
      ],
      "metadata": {
        "id": "QU6RKEaC-KPr"
      },
      "execution_count": null,
      "outputs": []
    },
    {
      "cell_type": "code",
      "source": [
        "#Question 1\n",
        "agent_executor.run(\n",
        "    \"List the total number of employees.\"\n",
        ")"
      ],
      "metadata": {
        "colab": {
          "base_uri": "https://localhost:8080/",
          "height": 732
        },
        "id": "N-FeyTPGXtlp",
        "outputId": "7908f4aa-b6ec-407e-b75f-005bf9a5bcb0"
      },
      "execution_count": null,
      "outputs": [
        {
          "output_type": "stream",
          "name": "stdout",
          "text": [
            "\n",
            "\n",
            "\u001b[1m> Entering new AgentExecutor chain...\u001b[0m\n",
            "\u001b[32;1m\u001b[1;3mAction: sql_db_list_tables\n",
            "Action Input: \u001b[0m\n",
            "Observation: \u001b[38;5;200m\u001b[1;3memployees\u001b[0m\n",
            "Thought:\u001b[32;1m\u001b[1;3m I should query the schema of the employees table to see what columns I can use.\n",
            "Action: sql_db_schema\n",
            "Action Input: employees\u001b[0m\n",
            "Observation: \u001b[33;1m\u001b[1;3m\n",
            "CREATE TABLE employees (\n",
            "\temployee_id INTEGER, \n",
            "\tfirst_name TEXT, \n",
            "\tlast_name TEXT, \n",
            "\temail TEXT, \n",
            "\tphone_number TEXT, \n",
            "\thire_date TEXT, \n",
            "\tjob_id TEXT, \n",
            "\tsalary INTEGER, \n",
            "\tcommission_pct TEXT, \n",
            "\tmanager_id TEXT, \n",
            "\tdepartment_id INTEGER\n",
            ")\n",
            "\n",
            "/*\n",
            "3 rows from employees table:\n",
            "employee_id\tfirst_name\tlast_name\temail\tphone_number\thire_date\tjob_id\tsalary\tcommission_pct\tmanager_id\tdepartment_id\n",
            "198\tDonald\tOConnell\tDOCONNEL\t650.507.9833\t21-JUN-07\tSH_CLERK\t2600\t - \t124\t50\n",
            "199\tDouglas\tGrant\tDGRANT\t650.507.9844\t13-JAN-08\tSH_CLERK\t2600\t - \t124\t50\n",
            "200\tJennifer\tWhalen\tJWHALEN\t515.123.4444\t17-SEP-03\tAD_ASST\t4400\t - \t101\t10\n",
            "*/\u001b[0m\n",
            "Thought:\u001b[32;1m\u001b[1;3m I should query the total number of employees.\n",
            "Action: sql_db_query\n",
            "Action Input: SELECT COUNT(*) FROM employees\u001b[0m\n",
            "Observation: \u001b[36;1m\u001b[1;3m[(50,)]\u001b[0m\n",
            "Thought:\u001b[32;1m\u001b[1;3m I now know the final answer.\n",
            "Final Answer: There are 50 employees.\u001b[0m\n",
            "\n",
            "\u001b[1m> Finished chain.\u001b[0m\n"
          ]
        },
        {
          "output_type": "execute_result",
          "data": {
            "text/plain": [
              "'There are 50 employees.'"
            ],
            "application/vnd.google.colaboratory.intrinsic+json": {
              "type": "string"
            }
          },
          "metadata": {},
          "execution_count": 10
        }
      ]
    },
    {
      "cell_type": "code",
      "source": [
        "#question 2\n",
        "agent_executor.run(\n",
        "    \"Retrieve the average salary of employees working in the Sales department.\"\n",
        ")"
      ],
      "metadata": {
        "id": "aXQ5wcgusKsw",
        "colab": {
          "base_uri": "https://localhost:8080/",
          "height": 732
        },
        "outputId": "e029474b-dcdc-4d69-8bda-51b9f3d56485"
      },
      "execution_count": null,
      "outputs": [
        {
          "output_type": "stream",
          "name": "stdout",
          "text": [
            "\n",
            "\n",
            "\u001b[1m> Entering new AgentExecutor chain...\u001b[0m\n",
            "\u001b[32;1m\u001b[1;3mAction: sql_db_list_tables\n",
            "Action Input: \u001b[0m\n",
            "Observation: \u001b[38;5;200m\u001b[1;3memployees\u001b[0m\n",
            "Thought:\u001b[32;1m\u001b[1;3m I should query the schema of the employees table.\n",
            "Action: sql_db_schema\n",
            "Action Input: employees\u001b[0m\n",
            "Observation: \u001b[33;1m\u001b[1;3m\n",
            "CREATE TABLE employees (\n",
            "\temployee_id INTEGER, \n",
            "\tfirst_name TEXT, \n",
            "\tlast_name TEXT, \n",
            "\temail TEXT, \n",
            "\tphone_number TEXT, \n",
            "\thire_date TEXT, \n",
            "\tjob_id TEXT, \n",
            "\tsalary INTEGER, \n",
            "\tcommission_pct TEXT, \n",
            "\tmanager_id TEXT, \n",
            "\tdepartment_id INTEGER\n",
            ")\n",
            "\n",
            "/*\n",
            "3 rows from employees table:\n",
            "employee_id\tfirst_name\tlast_name\temail\tphone_number\thire_date\tjob_id\tsalary\tcommission_pct\tmanager_id\tdepartment_id\n",
            "198\tDonald\tOConnell\tDOCONNEL\t650.507.9833\t21-JUN-07\tSH_CLERK\t2600\t - \t124\t50\n",
            "199\tDouglas\tGrant\tDGRANT\t650.507.9844\t13-JAN-08\tSH_CLERK\t2600\t - \t124\t50\n",
            "200\tJennifer\tWhalen\tJWHALEN\t515.123.4444\t17-SEP-03\tAD_ASST\t4400\t - \t101\t10\n",
            "*/\u001b[0m\n",
            "Thought:\u001b[32;1m\u001b[1;3m I should query the average salary of employees in the Sales department.\n",
            "Action: sql_db_query\n",
            "Action Input: SELECT AVG(salary) FROM employees WHERE department_id = 50;\u001b[0m\n",
            "Observation: \u001b[36;1m\u001b[1;3m[(3721.7391304347825,)]\u001b[0m\n",
            "Thought:\u001b[32;1m\u001b[1;3m I now know the final answer.\n",
            "Final Answer: The average salary of employees working in the Sales department is 3721.7391304347825.\u001b[0m\n",
            "\n",
            "\u001b[1m> Finished chain.\u001b[0m\n"
          ]
        },
        {
          "output_type": "execute_result",
          "data": {
            "text/plain": [
              "'The average salary of employees working in the Sales department is 3721.7391304347825.'"
            ],
            "application/vnd.google.colaboratory.intrinsic+json": {
              "type": "string"
            }
          },
          "metadata": {},
          "execution_count": 12
        }
      ]
    },
    {
      "cell_type": "code",
      "source": [
        "#Question 3\n",
        "agent_executor.run(\n",
        "    \"Name the highest paid employee.\"\n",
        ")"
      ],
      "metadata": {
        "colab": {
          "base_uri": "https://localhost:8080/",
          "height": 732
        },
        "id": "CEd1DwxVYCIC",
        "outputId": "ca6c3bc8-6743-47f4-d46f-5b2842246fd6"
      },
      "execution_count": null,
      "outputs": [
        {
          "output_type": "stream",
          "name": "stdout",
          "text": [
            "\n",
            "\n",
            "\u001b[1m> Entering new AgentExecutor chain...\u001b[0m\n",
            "\u001b[32;1m\u001b[1;3mAction: sql_db_list_tables\n",
            "Action Input: \u001b[0m\n",
            "Observation: \u001b[38;5;200m\u001b[1;3memployees\u001b[0m\n",
            "Thought:\u001b[32;1m\u001b[1;3m I should query the schema of the employees table.\n",
            "Action: sql_db_schema\n",
            "Action Input: employees\u001b[0m\n",
            "Observation: \u001b[33;1m\u001b[1;3m\n",
            "CREATE TABLE employees (\n",
            "\temployee_id INTEGER, \n",
            "\tfirst_name TEXT, \n",
            "\tlast_name TEXT, \n",
            "\temail TEXT, \n",
            "\tphone_number TEXT, \n",
            "\thire_date TEXT, \n",
            "\tjob_id TEXT, \n",
            "\tsalary INTEGER, \n",
            "\tcommission_pct TEXT, \n",
            "\tmanager_id TEXT, \n",
            "\tdepartment_id INTEGER\n",
            ")\n",
            "\n",
            "/*\n",
            "3 rows from employees table:\n",
            "employee_id\tfirst_name\tlast_name\temail\tphone_number\thire_date\tjob_id\tsalary\tcommission_pct\tmanager_id\tdepartment_id\n",
            "198\tDonald\tOConnell\tDOCONNEL\t650.507.9833\t21-JUN-07\tSH_CLERK\t2600\t - \t124\t50\n",
            "199\tDouglas\tGrant\tDGRANT\t650.507.9844\t13-JAN-08\tSH_CLERK\t2600\t - \t124\t50\n",
            "200\tJennifer\tWhalen\tJWHALEN\t515.123.4444\t17-SEP-03\tAD_ASST\t4400\t - \t101\t10\n",
            "*/\u001b[0m\n",
            "Thought:\u001b[32;1m\u001b[1;3m I should query the employees table for the highest paid employee.\n",
            "Action: sql_db_query\n",
            "Action Input: SELECT first_name, last_name, salary FROM employees ORDER BY salary DESC LIMIT 1;\u001b[0m\n",
            "Observation: \u001b[36;1m\u001b[1;3m[('Steven', 'King', 24000)]\u001b[0m\n",
            "Thought:\u001b[32;1m\u001b[1;3m I now know the final answer.\n",
            "Final Answer: The highest paid employee is Steven King with a salary of 24000.\u001b[0m\n",
            "\n",
            "\u001b[1m> Finished chain.\u001b[0m\n"
          ]
        },
        {
          "output_type": "execute_result",
          "data": {
            "text/plain": [
              "'The highest paid employee is Steven King with a salary of 24000.'"
            ],
            "application/vnd.google.colaboratory.intrinsic+json": {
              "type": "string"
            }
          },
          "metadata": {},
          "execution_count": 13
        }
      ]
    },
    {
      "cell_type": "code",
      "source": [
        "#question 4\n",
        "agent_executor.run(\n",
        "    \"List 2nd highest paid emplyee and his/her hire date\"\n",
        ")"
      ],
      "metadata": {
        "colab": {
          "base_uri": "https://localhost:8080/",
          "height": 732
        },
        "id": "Jt2YpGZ9YWyT",
        "outputId": "29f45a79-cf56-47d9-8fd6-964cbabad161"
      },
      "execution_count": null,
      "outputs": [
        {
          "output_type": "stream",
          "name": "stdout",
          "text": [
            "\n",
            "\n",
            "\u001b[1m> Entering new AgentExecutor chain...\u001b[0m\n",
            "\u001b[32;1m\u001b[1;3mAction: sql_db_list_tables\n",
            "Action Input: \u001b[0m\n",
            "Observation: \u001b[38;5;200m\u001b[1;3memployees\u001b[0m\n",
            "Thought:\u001b[32;1m\u001b[1;3m I should query the schema of the employees table\n",
            "Action: sql_db_schema\n",
            "Action Input: employees\u001b[0m\n",
            "Observation: \u001b[33;1m\u001b[1;3m\n",
            "CREATE TABLE employees (\n",
            "\temployee_id INTEGER, \n",
            "\tfirst_name TEXT, \n",
            "\tlast_name TEXT, \n",
            "\temail TEXT, \n",
            "\tphone_number TEXT, \n",
            "\thire_date TEXT, \n",
            "\tjob_id TEXT, \n",
            "\tsalary INTEGER, \n",
            "\tcommission_pct TEXT, \n",
            "\tmanager_id TEXT, \n",
            "\tdepartment_id INTEGER\n",
            ")\n",
            "\n",
            "/*\n",
            "3 rows from employees table:\n",
            "employee_id\tfirst_name\tlast_name\temail\tphone_number\thire_date\tjob_id\tsalary\tcommission_pct\tmanager_id\tdepartment_id\n",
            "198\tDonald\tOConnell\tDOCONNEL\t650.507.9833\t21-JUN-07\tSH_CLERK\t2600\t - \t124\t50\n",
            "199\tDouglas\tGrant\tDGRANT\t650.507.9844\t13-JAN-08\tSH_CLERK\t2600\t - \t124\t50\n",
            "200\tJennifer\tWhalen\tJWHALEN\t515.123.4444\t17-SEP-03\tAD_ASST\t4400\t - \t101\t10\n",
            "*/\u001b[0m\n",
            "Thought:\u001b[32;1m\u001b[1;3m I should query the database for the 2nd highest paid employee and their hire date\n",
            "Action: sql_db_query\n",
            "Action Input: SELECT first_name, last_name, hire_date FROM employees ORDER BY salary DESC LIMIT 1 OFFSET 1\u001b[0m\n",
            "Observation: \u001b[36;1m\u001b[1;3m[('Neena', 'Kochhar', '21-SEP-05')]\u001b[0m\n",
            "Thought:\u001b[32;1m\u001b[1;3m I now know the final answer\n",
            "Final Answer: The 2nd highest paid employee is Neena Kochhar and their hire date is 21-SEP-05.\u001b[0m\n",
            "\n",
            "\u001b[1m> Finished chain.\u001b[0m\n"
          ]
        },
        {
          "output_type": "execute_result",
          "data": {
            "text/plain": [
              "'The 2nd highest paid employee is Neena Kochhar and their hire date is 21-SEP-05.'"
            ],
            "application/vnd.google.colaboratory.intrinsic+json": {
              "type": "string"
            }
          },
          "metadata": {},
          "execution_count": 18
        }
      ]
    },
    {
      "cell_type": "code",
      "source": [
        "#Question 5\n",
        "agent_executor.run(\n",
        "    \"what will be the focasted salary if we give 10% hike across board\"\n",
        ")"
      ],
      "metadata": {
        "colab": {
          "base_uri": "https://localhost:8080/",
          "height": 750
        },
        "id": "xmSw630eYwGb",
        "outputId": "ffeb5111-154c-4aae-c1e9-6cf57cd31b1a"
      },
      "execution_count": null,
      "outputs": [
        {
          "output_type": "stream",
          "name": "stdout",
          "text": [
            "\n",
            "\n",
            "\u001b[1m> Entering new AgentExecutor chain...\u001b[0m\n",
            "\u001b[32;1m\u001b[1;3mAction: sql_db_list_tables\n",
            "Action Input: \u001b[0m\n",
            "Observation: \u001b[38;5;200m\u001b[1;3memployees\u001b[0m\n",
            "Thought:\u001b[32;1m\u001b[1;3m I should query the schema of the employees table\n",
            "Action: sql_db_schema\n",
            "Action Input: employees\u001b[0m\n",
            "Observation: \u001b[33;1m\u001b[1;3m\n",
            "CREATE TABLE employees (\n",
            "\temployee_id INTEGER, \n",
            "\tfirst_name TEXT, \n",
            "\tlast_name TEXT, \n",
            "\temail TEXT, \n",
            "\tphone_number TEXT, \n",
            "\thire_date TEXT, \n",
            "\tjob_id TEXT, \n",
            "\tsalary INTEGER, \n",
            "\tcommission_pct TEXT, \n",
            "\tmanager_id TEXT, \n",
            "\tdepartment_id INTEGER\n",
            ")\n",
            "\n",
            "/*\n",
            "3 rows from employees table:\n",
            "employee_id\tfirst_name\tlast_name\temail\tphone_number\thire_date\tjob_id\tsalary\tcommission_pct\tmanager_id\tdepartment_id\n",
            "198\tDonald\tOConnell\tDOCONNEL\t650.507.9833\t21-JUN-07\tSH_CLERK\t2600\t - \t124\t50\n",
            "199\tDouglas\tGrant\tDGRANT\t650.507.9844\t13-JAN-08\tSH_CLERK\t2600\t - \t124\t50\n",
            "200\tJennifer\tWhalen\tJWHALEN\t515.123.4444\t17-SEP-03\tAD_ASST\t4400\t - \t101\t10\n",
            "*/\u001b[0m\n",
            "Thought:\u001b[32;1m\u001b[1;3m I should query the salary of all employees and add 10% to it\n",
            "Action: sql_db_query\n",
            "Action Input: SELECT salary, salary * 1.1 AS forecasted_salary FROM employees\u001b[0m\n",
            "Observation: \u001b[36;1m\u001b[1;3m[(2600, 2860.0000000000005), (2600, 2860.0000000000005), (4400, 4840.0), (13000, 14300.000000000002), (6000, 6600.000000000001), (6500, 7150.000000000001), (10000, 11000.0), (12008, 13208.800000000001), (8300, 9130.0), (24000, 26400.000000000004), (17000, 18700.0), (17000, 18700.0), (9000, 9900.0), (6000, 6600.000000000001), (4800, 5280.0), (4800, 5280.0), (4200, 4620.0), (12008, 13208.800000000001), (9000, 9900.0), (8200, 9020.0), (7700, 8470.0), (7800, 8580.0), (6900, 7590.000000000001), (11000, 12100.000000000002), (3100, 3410.0000000000005), (2900, 3190.0000000000005), (2800, 3080.0000000000005), (2600, 2860.0000000000005), (2500, 2750.0), (8000, 8800.0), (8200, 9020.0), (7900, 8690.0), (6500, 7150.000000000001), (5800, 6380.000000000001), (3200, 3520.0000000000005), (2700, 2970.0000000000005), (2400, 2640.0), (2200, 2420.0), (3300, 3630.0000000000005), (2800, 3080.0000000000005), (2500, 2750.0), (2100, 2310.0), (3300, 3630.0000000000005), (2900, 3190.0000000000005), (2400, 2640.0), (2200, 2420.0), (3600, 3960.0000000000005), (3200, 3520.0000000000005), (2700, 2970.0000000000005), (2500, 2750.0)]\u001b[0m\n",
            "Thought:\u001b[32;1m\u001b[1;3m I now know the final answer\n",
            "Final Answer: The forecasted salary after a 10% hike across board is 2860.0000000000005 for employees with a salary of 2600, 4840.0 for employees with a salary of 4400, and so on.\u001b[0m\n",
            "\n",
            "\u001b[1m> Finished chain.\u001b[0m\n"
          ]
        },
        {
          "output_type": "execute_result",
          "data": {
            "text/plain": [
              "'The forecasted salary after a 10% hike across board is 2860.0000000000005 for employees with a salary of 2600, 4840.0 for employees with a salary of 4400, and so on.'"
            ],
            "application/vnd.google.colaboratory.intrinsic+json": {
              "type": "string"
            }
          },
          "metadata": {},
          "execution_count": 15
        }
      ]
    }
  ]
}